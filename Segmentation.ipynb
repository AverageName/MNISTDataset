{
 "cells": [
  {
   "cell_type": "code",
   "execution_count": 1,
   "metadata": {},
   "outputs": [
    {
     "name": "stdout",
     "output_type": "stream",
     "text": [
      "Using matplotlib backend: Qt5Agg\n"
     ]
    }
   ],
   "source": [
    "%matplotlib\n",
    "%matplotlib inline\n",
    "\n",
    "import sys\n",
    "# update with your path\n",
    "# All the jupyter notebooks in the repository already have this\n",
    "sys.path.append(\"/home/max/pytorch-segmentation-detection\")\n",
    "sys.path.insert(0, '/home/max/pytorch-segmentation-detection/vision/')\n",
    "import pytorch_segmentation_detection.models.fcn as fcns\n",
    "\n",
    "import torch\n",
    "import torchvision\n",
    "import torchvision.transforms as transforms\n",
    "import matplotlib.image as mpimg\n",
    "import matplotlib.pyplot as plt\n",
    "import numpy as np"
   ]
  },
  {
   "cell_type": "code",
   "execution_count": 2,
   "metadata": {
    "collapsed": true
   },
   "outputs": [],
   "source": [
    "from torch.autograd import Variable\n",
    "import torch.nn as nn\n",
    "import torch.nn.functional as F\n",
    "\n",
    "\n",
    "#class Net(nn.Module):\n",
    "#     def __init__(self):\n",
    "#         super(Net, self).__init__()\n",
    "#         self.conv1 = nn.Conv2d(3, 6, 5)\n",
    "#         self.pool = nn.MaxPool2d(2,2)\n",
    "#         self.conv2 = nn.Conv2d(6, 16, 5)\n",
    "#         self.conv3 = nn.Conv2d(16,120,5)\n",
    "#         self.conv4 = nn.Conv2d(120,84,1)\n",
    "#         self.conv5 = nn.Conv2d(84, 2, 1)\n",
    "\n",
    "#     def forward(self, x):\n",
    "#         x = self.pool(F.relu(self.conv1(x)))\n",
    "#         x = self.pool(F.relu(self.conv2(x)))\n",
    "#         x = F.relu(self.conv3(x))\n",
    "#         x = F.relu(self.conv4(x))\n",
    "#         x = self.conv5(x)\n",
    "#         x = nn.functional.upsample_bilinear(x,size=(352,480))\n",
    "#         return x\n",
    "#net = Net()\n"
   ]
  },
  {
   "cell_type": "code",
   "execution_count": 3,
   "metadata": {
    "collapsed": true
   },
   "outputs": [],
   "source": [
    "import skimage.io as io\n",
    "\n",
    "input_numpy = io.imread('cat.jpg').astype(np.float32)\n",
    "labels_numpy = np.ascontiguousarray( io.imread('cat_annotation.png')[:, :, 0]).astype(np.long)\n",
    "input_torch = torch.from_numpy(input_numpy)\n",
    "transform = transforms.Normalize(mean = (0.485, 0.456, 0.406),std = (0.229, 0.224, 0.225))\n",
    "input_torch = transform(input_torch)\n",
    "\n",
    "inputs, labels = Variable(input_torch), Variable(torch.from_numpy(labels_numpy))\n",
    "\n",
    "inputs = inputs.unsqueeze(0).permute(0, 3, 1, 2)"
   ]
  },
  {
   "cell_type": "code",
   "execution_count": 4,
   "metadata": {
    "collapsed": true
   },
   "outputs": [],
   "source": [
    "import torch.optim as optim\n",
    "fcn = fcns.FCN_32s(num_classes=2)\n",
    "criterion = nn.CrossEntropyLoss()\n",
    "optimizer = optim.Adam(fcn.parameters(),lr=0.0001)"
   ]
  },
  {
   "cell_type": "code",
   "execution_count": null,
   "metadata": {},
   "outputs": [
    {
     "name": "stdout",
     "output_type": "stream",
     "text": [
      "0   0.697540819644928\n",
      "1   0.6910161972045898\n",
      "2   0.6875073313713074\n",
      "3   0.6801225543022156\n",
      "4   0.6657084822654724\n"
     ]
    }
   ],
   "source": [
    "sum_loss = [0]*20\n",
    "for i in range(20):\n",
    "    #inputs, labels = Variable(torch.from_numpy(input_numpy)), Variable(torch.from_numpy(labels_numpy))\n",
    "        \n",
    "    optimizer.zero_grad()  \n",
    "    outputs = fcn(inputs)\n",
    "    outputs = outputs.view(352*480,-1)\n",
    "    labels = labels.view(352*480,-1)\n",
    "    labels = labels.squeeze()\n",
    "    loss = criterion(outputs, labels)\n",
    "    loss.backward()\n",
    "    optimizer.step()\n",
    "\n",
    "    sum_loss[i]+=loss.data[0]\n",
    "    print(i,' ', sum_loss[i])\n",
    "        \n",
    "print('Finished training')\n"
   ]
  },
  {
   "cell_type": "code",
   "execution_count": 6,
   "metadata": {
    "collapsed": true
   },
   "outputs": [],
   "source": [
    "fcn = fcn.eval()\n",
    "outputs_2 = fcn(inputs)\n"
   ]
  },
  {
   "cell_type": "code",
   "execution_count": 7,
   "metadata": {},
   "outputs": [
    {
     "data": {
      "text/plain": [
       "<matplotlib.image.AxesImage at 0x7fd27311b048>"
      ]
     },
     "execution_count": 7,
     "metadata": {},
     "output_type": "execute_result"
    },
    {
     "data": {
      "image/png": "[encoded data removed]",
      "text/plain": [
       "<matplotlib.figure.Figure at 0x7fd2a561fd68>"
      ]
     },
     "metadata": {},
     "output_type": "display_data"
    }
   ],
   "source": [
    "%matplotlib inline\n",
    "outputs_2,indices = torch.max(outputs_2,1)\n",
    "indices_2 = torch.squeeze(indices.data)\n",
    "indices_2 = indices_2.data.numpy()\n",
    "indices_2 = np.reshape(indices_2,(352,480))\n",
    "plt.imshow(indices_2)"
   ]
  },
  {
   "cell_type": "code",
   "execution_count": 8,
   "metadata": {},
   "outputs": [
    {
     "data": {
      "text/plain": [
       "(1, 1, 352, 480)"
      ]
     },
     "execution_count": 8,
     "metadata": {},
     "output_type": "execute_result"
    }
   ],
   "source": [
    "indices.shape\n"
   ]
  },
  {
   "cell_type": "code",
   "execution_count": 13,
   "metadata": {},
   "outputs": [
    {
     "data": {
      "text/plain": [
       "(352, 480, 3)"
      ]
     },
     "execution_count": 13,
     "metadata": {},
     "output_type": "execute_result"
    }
   ],
   "source": [
    "input_numpy.shape"
   ]
  },
  {
   "cell_type": "code",
   "execution_count": 26,
   "metadata": {
    "collapsed": true
   },
   "outputs": [],
   "source": [
    "inputs = inputs.unsqueeze(0)"
   ]
  },
  {
   "cell_type": "code",
   "execution_count": 27,
   "metadata": {
    "collapsed": true
   },
   "outputs": [],
   "source": [
    "inputs = inputs.permute(0, 3, 1, 2)"
   ]
  },
  {
   "cell_type": "code",
   "execution_count": null,
   "metadata": {
    "collapsed": true
   },
   "outputs": [],
   "source": [
    "outputs = net(inputs)"
   ]
  },
  {
   "cell_type": "code",
   "execution_count": 31,
   "metadata": {},
   "outputs": [
    {
     "data": {
      "text/plain": [
       "Variable containing:\n",
       "( 0 ,.,.) = \n",
       "  102  101  106\n",
       "  120  119  124\n",
       "  118  117  122\n",
       "       ⋮       \n",
       "  171  187  212\n",
       "  173  189  214\n",
       "  174  190  215\n",
       "\n",
       "( 1 ,.,.) = \n",
       "  102  101  106\n",
       "  114  113  118\n",
       "  129  128  133\n",
       "       ⋮       \n",
       "  173  189  214\n",
       "  175  191  216\n",
       "  176  192  217\n",
       "\n",
       "( 2 ,.,.) = \n",
       "   97   96  101\n",
       "   95   94   99\n",
       "  132  131  136\n",
       "       ⋮       \n",
       "  175  191  216\n",
       "  176  192  217\n",
       "  178  194  219\n",
       "... \n",
       "\n",
       "(349,.,.) = \n",
       "  136  138  159\n",
       "  127  129  150\n",
       "  120  122  143\n",
       "       ⋮       \n",
       "   46   47   49\n",
       "   47   49   48\n",
       "   47   49   48\n",
       "\n",
       "(350,.,.) = \n",
       "  130  135  157\n",
       "  118  123  145\n",
       "  110  115  137\n",
       "       ⋮       \n",
       "   40   44   45\n",
       "   39   43   42\n",
       "   39   43   42\n",
       "\n",
       "(351,.,.) = \n",
       "  122  126  151\n",
       "  109  113  138\n",
       "  102  107  129\n",
       "       ⋮       \n",
       "   54   58   59\n",
       "   48   52   53\n",
       "   47   51   50\n",
       "[torch.FloatTensor of size 352x480x3]"
      ]
     },
     "execution_count": 31,
     "metadata": {},
     "output_type": "execute_result"
    }
   ],
   "source": [
    "inputs"
   ]
  },
  {
   "cell_type": "code",
   "execution_count": 55,
   "metadata": {},
   "outputs": [
    {
     "data": {
      "text/plain": [
       "\n",
       "( 0 ,.,.) = \n",
       "  102  101  106\n",
       "  120  119  124\n",
       "  118  117  122\n",
       "       ⋮       \n",
       "  171  187  212\n",
       "  173  189  214\n",
       "  174  190  215\n",
       "\n",
       "( 1 ,.,.) = \n",
       "  102  101  106\n",
       "  114  113  118\n",
       "  129  128  133\n",
       "       ⋮       \n",
       "  173  189  214\n",
       "  175  191  216\n",
       "  176  192  217\n",
       "\n",
       "( 2 ,.,.) = \n",
       "   97   96  101\n",
       "   95   94   99\n",
       "  132  131  136\n",
       "       ⋮       \n",
       "  175  191  216\n",
       "  176  192  217\n",
       "  178  194  219\n",
       "... \n",
       "\n",
       "(349,.,.) = \n",
       "  136  138  159\n",
       "  127  129  150\n",
       "  120  122  143\n",
       "       ⋮       \n",
       "   46   47   49\n",
       "   47   49   48\n",
       "   47   49   48\n",
       "\n",
       "(350,.,.) = \n",
       "  130  135  157\n",
       "  118  123  145\n",
       "  110  115  137\n",
       "       ⋮       \n",
       "   40   44   45\n",
       "   39   43   42\n",
       "   39   43   42\n",
       "\n",
       "(351,.,.) = \n",
       "  122  126  151\n",
       "  109  113  138\n",
       "  102  107  129\n",
       "       ⋮       \n",
       "   54   58   59\n",
       "   48   52   53\n",
       "   47   51   50\n",
       "[torch.ByteTensor of size 352x480x3]"
      ]
     },
     "execution_count": 55,
     "metadata": {},
     "output_type": "execute_result"
    }
   ],
   "source": [
    "torch.from_numpy(input_numpy)"
   ]
  },
  {
   "cell_type": "code",
   "execution_count": 4,
   "metadata": {
    "collapsed": true
   },
   "outputs": [],
   "source": []
  },
  {
   "cell_type": "code",
   "execution_count": 50,
   "metadata": {},
   "outputs": [
    {
     "data": {
      "text/plain": [
       "torch.Size([352, 480])"
      ]
     },
     "execution_count": 50,
     "metadata": {},
     "output_type": "execute_result"
    }
   ],
   "source": [
    "labels.size()"
   ]
  },
  {
   "cell_type": "code",
   "execution_count": 9,
   "metadata": {},
   "outputs": [
    {
     "data": {
      "text/plain": [
       "dtype('uint8')"
      ]
     },
     "execution_count": 9,
     "metadata": {},
     "output_type": "execute_result"
    }
   ],
   "source": [
    "input_numpy.dtype"
   ]
  },
  {
   "cell_type": "code",
   "execution_count": 37,
   "metadata": {},
   "outputs": [
    {
     "data": {
      "text/plain": [
       "torch.Size([1, 10, 352, 480])"
      ]
     },
     "execution_count": 37,
     "metadata": {},
     "output_type": "execute_result"
    }
   ],
   "source": [
    "outputs.size()"
   ]
  },
  {
   "cell_type": "code",
   "execution_count": 44,
   "metadata": {},
   "outputs": [
    {
     "name": "stderr",
     "output_type": "stream",
     "text": [
      "/home/max/anaconda3/lib/python3.6/site-packages/skimage/io/_plugins/matplotlib_plugin.py:74: UserWarning: Low image data range; displaying image with stretched contrast.\n",
      "  warn(\"Low image data range; displaying image with \"\n"
     ]
    },
    {
     "data": {
      "text/plain": [
       "<matplotlib.image.AxesImage at 0x7fcde273f0f0>"
      ]
     },
     "execution_count": 44,
     "metadata": {},
     "output_type": "execute_result"
    },
    {
     "data": {
      "image/png": "[encoded data removed]",
      "text/plain": [
       "<matplotlib.figure.Figure at 0x7fcde28d8ac8>"
      ]
     },
     "metadata": {},
     "output_type": "display_data"
    }
   ],
   "source": [
    "%matplotlib inline\n",
    "\n",
    "io.imshow(labels_numpy[:, :, 1])"
   ]
  },
  {
   "cell_type": "code",
   "execution_count": 10,
   "metadata": {
    "collapsed": true
   },
   "outputs": [],
   "source": [
    "A = [[1,2,3],[2,3,4]]\n",
    "A = torch.FloatTensor(A)"
   ]
  },
  {
   "cell_type": "code",
   "execution_count": 13,
   "metadata": {},
   "outputs": [
    {
     "data": {
      "text/plain": [
       "(\n",
       "  2  3  4\n",
       " [torch.FloatTensor of size 1x3], \n",
       "  1  1  1\n",
       " [torch.LongTensor of size 1x3])"
      ]
     },
     "execution_count": 13,
     "metadata": {},
     "output_type": "execute_result"
    }
   ],
   "source": [
    "torch.max(A,0)"
   ]
  },
  {
   "cell_type": "code",
   "execution_count": null,
   "metadata": {
    "collapsed": true
   },
   "outputs": [],
   "source": []
  }
 ],
 "metadata": {
  "kernelspec": {
   "display_name": "Python 3",
   "language": "python",
   "name": "python3"
  },
  "language_info": {
   "codemirror_mode": {
    "name": "ipython",
    "version": 3
   },
   "file_extension": ".py",
   "mimetype": "text/x-python",
   "name": "python",
   "nbconvert_exporter": "python",
   "pygments_lexer": "ipython3",
   "version": "3.6.1"
  }
 },
 "nbformat": 4,
 "nbformat_minor": 2
}
